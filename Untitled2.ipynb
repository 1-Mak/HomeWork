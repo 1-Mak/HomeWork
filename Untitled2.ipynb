{
  "nbformat": 4,
  "nbformat_minor": 0,
  "metadata": {
    "colab": {
      "provenance": [],
      "authorship_tag": "ABX9TyM+Mhu4lbShvmf5nx0ZNY6S",
      "include_colab_link": true
    },
    "kernelspec": {
      "name": "python3",
      "display_name": "Python 3"
    },
    "language_info": {
      "name": "python"
    }
  },
  "cells": [
    {
      "cell_type": "markdown",
      "metadata": {
        "id": "view-in-github",
        "colab_type": "text"
      },
      "source": [
        "<a href=\"https://colab.research.google.com/github/1-Mak/HomeWork/blob/master/Untitled2.ipynb\" target=\"_parent\"><img src=\"https://colab.research.google.com/assets/colab-badge.svg\" alt=\"Open In Colab\"/></a>"
      ]
    },
    {
      "cell_type": "code",
      "source": [
        "chislo = float(input(\"Введите число: \"))\n",
        "i = 1\n",
        "while i<=chislo:\n",
        "  if chislo%i==0:\n",
        "    print(i)\n",
        "  i+=1"
      ],
      "metadata": {
        "id": "qe12xxgqh3RM"
      },
      "execution_count": null,
      "outputs": []
    },
    {
      "cell_type": "code",
      "source": [
        "chislo = int(input(\"Введите число: \"))\n",
        "for i in range (1,number+1):\n",
        "  if chislo%i==0:\n",
        "    print(i)"
      ],
      "metadata": {
        "id": "RZxxvp4Dh3Te"
      },
      "execution_count": null,
      "outputs": []
    },
    {
      "cell_type": "code",
      "source": [
        "for i in range (60,131,10):\n",
        "  print(i,i*0.6214)"
      ],
      "metadata": {
        "id": "BbGrVHCAh3XS"
      },
      "execution_count": null,
      "outputs": []
    },
    {
      "cell_type": "code",
      "source": [
        "number = int(input(\"Введите число: \"))\n",
        "i = 1\n",
        "while i**2<= number:\n",
        "  print(i**2)\n",
        "  i+=1"
      ],
      "metadata": {
        "id": "gu8QG4Duh3Zk"
      },
      "execution_count": null,
      "outputs": []
    },
    {
      "cell_type": "code",
      "source": [
        "Array = list(map(int,input(\"Введите элементы массива: \").split()))\n",
        "k = 0\n",
        "for i in range(len(Array)):\n",
        "  if k <= Array[i]:\n",
        "    k = i\n",
        "  print(i + 1)"
      ],
      "metadata": {
        "id": "sYEZb5wWh_vY"
      },
      "execution_count": null,
      "outputs": []
    },
    {
      "cell_type": "code",
      "source": [
        "n = 1\n",
        "Array =[]\n",
        "while n!=0:\n",
        "  n = int(input(\"Введите элемент последовательности: \"))\n",
        "  if n%2==0 and n!=0:\n",
        "    Array.append(h)\n",
        "  print(*Array)"
      ],
      "metadata": {
        "id": "kas_rOcoiDOO"
      },
      "execution_count": null,
      "outputs": []
    },
    {
      "cell_type": "code",
      "source": [
        "def tree(n):\n",
        "  \n",
        "  while n!=0:\n",
        "    print(\"   * \")\n",
        "    print(\"  *** \")\n",
        "    print(\" ***** \")\n",
        "    print(\"******* \")\n",
        "    print(\"   | \")\n",
        "    n-=1\n",
        "n = int(input(\"Введите количество елочек: \"))\n",
        "print(tree(n))"
      ],
      "metadata": {
        "colab": {
          "base_uri": "https://localhost:8080/"
        },
        "id": "a95DE7QLiDVW",
        "outputId": "36105ffa-66d3-4ee7-c44a-89a24e419ac8"
      },
      "execution_count": null,
      "outputs": [
        {
          "output_type": "stream",
          "name": "stdout",
          "text": [
            "Введите количество елочек: 2\n",
            " * \n",
            " *** \n",
            " ***** \n",
            " ******* \n",
            " | \n",
            " * \n",
            " *** \n",
            " ***** \n",
            " ******* \n",
            " | \n",
            "None\n"
          ]
        }
      ]
    },
    {
      "cell_type": "code",
      "source": [
        "\n",
        "n,m = map(int,input().split())\n",
        "A = [[(i+j+1)%2 for j in range(m)] for i in range(n)]\n",
        "for n in A:\n",
        "  print(*n)"
      ],
      "metadata": {
        "id": "16rywNwsiDmS"
      },
      "execution_count": null,
      "outputs": []
    },
    {
      "cell_type": "code",
      "source": [
        "n,m = map(int,input().split())\n",
        "f = 0\n",
        "B = [[j*m + i +1 for i in range(m)] for j in range(n)]\n",
        "for n in B:\n",
        "  print(*n)"
      ],
      "metadata": {
        "colab": {
          "base_uri": "https://localhost:8080/"
        },
        "id": "V3joiObsiJbD",
        "outputId": "8c74aac0-0449-4934-bae4-8c7e30df3e2a"
      },
      "execution_count": null,
      "outputs": [
        {
          "output_type": "stream",
          "name": "stdout",
          "text": [
            "4 4\n",
            "1 2 3 4\n",
            "5 6 7 8\n",
            "9 10 11 12\n",
            "13 14 15 16\n"
          ]
        }
      ]
    },
    {
      "cell_type": "code",
      "source": [
        "n,m = map(int,input().split())\n",
        "f = 0\n",
        "B = [[i*n + j for i in range(m)] for j in range(n)]\n",
        "for n in B:\n",
        "  print(*n)"
      ],
      "metadata": {
        "colab": {
          "base_uri": "https://localhost:8080/"
        },
        "id": "DNOLCMP-iJh8",
        "outputId": "ef295531-fb9d-439f-a3e1-60175799604e"
      },
      "execution_count": null,
      "outputs": [
        {
          "output_type": "stream",
          "name": "stdout",
          "text": [
            "4 4\n",
            "0 4 8 12\n",
            "1 5 9 13\n",
            "2 6 10 14\n",
            "3 7 11 15\n"
          ]
        }
      ]
    }
  ]
}